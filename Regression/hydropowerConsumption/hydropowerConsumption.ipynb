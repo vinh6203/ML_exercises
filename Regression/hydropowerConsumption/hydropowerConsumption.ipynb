{
  "nbformat": 4,
  "nbformat_minor": 0,
  "metadata": {
    "colab": {
      "provenance": []
    },
    "kernelspec": {
      "name": "python3",
      "display_name": "Python 3"
    },
    "language_info": {
      "name": "python"
    }
  },
  "cells": [
    {
      "cell_type": "code",
      "source": [
        "from google.colab import drive\n",
        "drive.mount('/content/drive')"
      ],
      "metadata": {
        "colab": {
          "base_uri": "https://localhost:8080/"
        },
        "id": "_gfkgBDB9jha",
        "outputId": "38678c03-9808-4782-b0e1-6a5456f58d5a"
      },
      "execution_count": 80,
      "outputs": [
        {
          "output_type": "stream",
          "name": "stdout",
          "text": [
            "Drive already mounted at /content/drive; to attempt to forcibly remount, call drive.mount(\"/content/drive\", force_remount=True).\n"
          ]
        }
      ]
    },
    {
      "cell_type": "code",
      "execution_count": 81,
      "metadata": {
        "id": "20hg8mEVeBCa"
      },
      "outputs": [],
      "source": [
        "import pandas as pd\n",
        "import numpy as np\n",
        "from sklearn.model_selection import train_test_split\n",
        "from sklearn.metrics import mean_squared_error, r2_score\n",
        "from sklearn.preprocessing import StandardScaler, MinMaxScaler\n",
        "from sklearn.linear_model import Perceptron, PassiveAggressiveClassifier\n",
        "from sklearn.linear_model import LinearRegression, Ridge, RidgeCV\n",
        "from sklearn.neural_network import MLPClassifier\n",
        "from sklearn.naive_bayes import MultinomialNB\n",
        "from sklearn.tree import DecisionTreeClassifier\n",
        "from sklearn.neighbors import KNeighborsClassifier, KNeighborsRegressor\n",
        "from sklearn.svm import SVC"
      ]
    },
    {
      "cell_type": "code",
      "source": [
        "data = pd.read_csv(\"drive/MyDrive/data/Hydropower_Consumption.csv\")\n",
        "print(data.shape)\n",
        "data = data.values[:,1:]\n",
        "print(data)"
      ],
      "metadata": {
        "colab": {
          "base_uri": "https://localhost:8080/"
        },
        "id": "y57jdkAHfViZ",
        "outputId": "40099a76-54b3-4392-c80d-784749452881"
      },
      "execution_count": 82,
      "outputs": [
        {
          "output_type": "stream",
          "name": "stdout",
          "text": [
            "(153, 21)\n",
            "[[312 498 555 ... 105 105 107]\n",
            " [75246 80864 85181 ... 130388 132735 0]\n",
            " [4548 3519 3477 ... 448 448 4018]\n",
            " ...\n",
            " [14551 1821 18198 ... 88762 84485 65563]\n",
            " [7673 7814 8021 ... 12076 12076 11799]\n",
            " [3227 2968 3786 ... 3929 3929 3592]]\n"
          ]
        }
      ]
    },
    {
      "cell_type": "code",
      "source": [
        "scaler = MinMaxScaler(feature_range=(0, 1))\n",
        "data = scaler.fit_transform(data)\n",
        "\n",
        "X = data[:, :-1]  # feature data\n",
        "y = data[:, -1:]  # label\n",
        "X_train, X_test, y_train, y_test = train_test_split(X, y, test_size=0.25, random_state=42, shuffle=True)\n",
        "\n",
        "y_train = y_train[:, 0]\n",
        "y_test = y_test[:, 0]"
      ],
      "metadata": {
        "id": "8_Owa0bbgGbZ"
      },
      "execution_count": 83,
      "outputs": []
    },
    {
      "cell_type": "code",
      "source": [
        "# model selection\n",
        "regressors = [\n",
        "              LinearRegression(),\n",
        "              Ridge(),\n",
        "              RidgeCV(),\n",
        "              KNeighborsRegressor(),\n",
        "             ]\n",
        "\n",
        "\n",
        "# Normalized data\n",
        "# scaler = StandardScaler()\n",
        "# X_train = scaler.fit_transform(X_train)\n",
        "# X_test = scaler.transform(X_test)\n",
        "\n",
        "\n",
        "# Model training and performance evaluation\n",
        "for regressor in regressors:\n",
        "  model = regressor\n",
        "  model.fit(X_train, y_train)\n",
        "  y_pred = model.predict(X_test)\n",
        "  print(\"%s\" % (model))\n",
        "  print(\"Root Mean Squared Error:\", mean_squared_error(y_test, y_pred)**0.5)\n",
        "  print(\"R2 Score:\", r2_score(y_test, y_pred))\n",
        "  print(\"\")"
      ],
      "metadata": {
        "id": "0nG6GttjiQLf",
        "colab": {
          "base_uri": "https://localhost:8080/"
        },
        "outputId": "b3394330-f6f4-4af6-886c-a0814f6900a5"
      },
      "execution_count": 84,
      "outputs": [
        {
          "output_type": "stream",
          "name": "stdout",
          "text": [
            "LinearRegression()\n",
            "Root Mean Squared Error: 0.009468112460766266\n",
            "R2 Score: 0.23508442951595865\n",
            "\n",
            "Ridge()\n",
            "Root Mean Squared Error: 0.06004108799623161\n",
            "R2 Score: -29.75982021399238\n",
            "\n",
            "RidgeCV()\n",
            "Root Mean Squared Error: 0.05909136061966126\n",
            "R2 Score: -28.794401504221273\n",
            "\n",
            "KNeighborsRegressor()\n",
            "Root Mean Squared Error: 0.02542093455096791\n",
            "R2 Score: -4.51403744351307\n",
            "\n"
          ]
        }
      ]
    },
    {
      "cell_type": "code",
      "source": [
        "# Using Principal Component Regression (PCR) = Principal Component Analysis (PCA) + Linear Regression\n",
        "# Plus: Trying other model after PCA transform\n",
        "import numpy as np\n",
        "from numpy.linalg import svd\n",
        "from sklearn.decomposition import PCA\n",
        "\n",
        "# Standardized and find tuning parameter k (number of Pricipal Component)\n",
        "k = 10\n",
        "scaler = MinMaxScaler(feature_range=(0, 1))\n",
        "Xs = scaler.fit_transform(X).astype(\"float64\")\n",
        "cov_Xs = 1/(Xs.shape[0]-1) * Xs.T @ Xs\n",
        "u, s, uT = svd(cov_Xs)\n",
        "print(\"inflection point:\", np.sum(s[:k])/np.sum(s))\n",
        "print(\"\")\n",
        "\n",
        "\n",
        "# Transform the data\n",
        "pca_ = PCA(n_components=10)\n",
        "X_transformed = pca_.fit_transform(Xs)\n",
        "X_train, X_test, y_train, y_test = train_test_split(X_transformed, y, test_size=0.25, random_state=42, shuffle=True)\n",
        "y_train = y_train[:, 0]\n",
        "y_test = y_test[:, 0]\n",
        "\n",
        "\n",
        "# Model training and performance evaluation (R2 score <= 1 (can be negative))\n",
        "for regressor in regressors:\n",
        "  model = regressor\n",
        "  model.fit(X_train, y_train)\n",
        "  y_pred = model.predict(X_test)\n",
        "  print(\"%s\" % (model))\n",
        "  print(\"Root Mean Squared Error:\", mean_squared_error(y_test, y_pred)**0.5)\n",
        "  print(\"R2 Score:\", r2_score(y_test, y_pred))\n",
        "  print(\"\")"
      ],
      "metadata": {
        "colab": {
          "base_uri": "https://localhost:8080/"
        },
        "id": "vS-yD65WnIey",
        "outputId": "3f98f3b6-84ce-4ec9-d5e2-5cfb660f4680"
      },
      "execution_count": 85,
      "outputs": [
        {
          "output_type": "stream",
          "name": "stdout",
          "text": [
            "inflection point: 0.9988808976479174\n",
            "\n",
            "LinearRegression()\n",
            "Root Mean Squared Error: 0.00492038897811015\n",
            "R2 Score: 0.7934212905869836\n",
            "\n",
            "Ridge()\n",
            "Root Mean Squared Error: 0.06003843695256825\n",
            "R2 Score: -29.757103946552522\n",
            "\n",
            "RidgeCV()\n",
            "Root Mean Squared Error: 0.059047884805022884\n",
            "R2 Score: -28.750575829910773\n",
            "\n",
            "KNeighborsRegressor()\n",
            "Root Mean Squared Error: 0.0256577188633421\n",
            "R2 Score: -4.617237289963618\n",
            "\n"
          ]
        }
      ]
    }
  ]
}