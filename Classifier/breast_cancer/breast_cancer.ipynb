{
  "nbformat": 4,
  "nbformat_minor": 0,
  "metadata": {
    "colab": {
      "provenance": []
    },
    "kernelspec": {
      "name": "python3",
      "display_name": "Python 3"
    },
    "language_info": {
      "name": "python"
    }
  },
  "cells": [
    {
      "cell_type": "code",
      "source": [
        "from google.colab import drive\n",
        "drive.mount('/content/drive')"
      ],
      "metadata": {
        "colab": {
          "base_uri": "https://localhost:8080/"
        },
        "id": "DFzjffBF7V-F",
        "outputId": "74cf950b-5642-48a5-c062-486c090108fd"
      },
      "execution_count": 20,
      "outputs": [
        {
          "output_type": "stream",
          "name": "stdout",
          "text": [
            "Drive already mounted at /content/drive; to attempt to forcibly remount, call drive.mount(\"/content/drive\", force_remount=True).\n"
          ]
        }
      ]
    },
    {
      "cell_type": "code",
      "source": [
        "import pandas as pd\n",
        "data = pd.read_csv(\"drive/MyDrive/AI/Exercises/Breast Cancer/breast_cancer_data.csv\")\n",
        "print(data)"
      ],
      "metadata": {
        "colab": {
          "base_uri": "https://localhost:8080/"
        },
        "id": "VO8zwdu843ys",
        "outputId": "27e63333-e81e-4f4e-8270-5887c206424f"
      },
      "execution_count": 21,
      "outputs": [
        {
          "output_type": "stream",
          "name": "stdout",
          "text": [
            "           id diagnosis  radius_mean  texture_mean  perimeter_mean  area_mean  \\\n",
            "0      842302         M        17.99         10.38          122.80     1001.0   \n",
            "1      842517         M        20.57         17.77          132.90     1326.0   \n",
            "2    84300903         M        19.69         21.25          130.00     1203.0   \n",
            "3    84348301         M        11.42         20.38           77.58      386.1   \n",
            "4    84358402         M        20.29         14.34          135.10     1297.0   \n",
            "..        ...       ...          ...           ...             ...        ...   \n",
            "564    926424         M        21.56         22.39          142.00     1479.0   \n",
            "565    926682         M        20.13         28.25          131.20     1261.0   \n",
            "566    926954         M        16.60         28.08          108.30      858.1   \n",
            "567    927241         M        20.60         29.33          140.10     1265.0   \n",
            "568     92751         B         7.76         24.54           47.92      181.0   \n",
            "\n",
            "     smoothness_mean  compactness_mean  concavity_mean  concave points_mean  \\\n",
            "0            0.11840           0.27760         0.30010              0.14710   \n",
            "1            0.08474           0.07864         0.08690              0.07017   \n",
            "2            0.10960           0.15990         0.19740              0.12790   \n",
            "3            0.14250           0.28390         0.24140              0.10520   \n",
            "4            0.10030           0.13280         0.19800              0.10430   \n",
            "..               ...               ...             ...                  ...   \n",
            "564          0.11100           0.11590         0.24390              0.13890   \n",
            "565          0.09780           0.10340         0.14400              0.09791   \n",
            "566          0.08455           0.10230         0.09251              0.05302   \n",
            "567          0.11780           0.27700         0.35140              0.15200   \n",
            "568          0.05263           0.04362         0.00000              0.00000   \n",
            "\n",
            "     ...  texture_worst  perimeter_worst  area_worst  smoothness_worst  \\\n",
            "0    ...          17.33           184.60      2019.0           0.16220   \n",
            "1    ...          23.41           158.80      1956.0           0.12380   \n",
            "2    ...          25.53           152.50      1709.0           0.14440   \n",
            "3    ...          26.50            98.87       567.7           0.20980   \n",
            "4    ...          16.67           152.20      1575.0           0.13740   \n",
            "..   ...            ...              ...         ...               ...   \n",
            "564  ...          26.40           166.10      2027.0           0.14100   \n",
            "565  ...          38.25           155.00      1731.0           0.11660   \n",
            "566  ...          34.12           126.70      1124.0           0.11390   \n",
            "567  ...          39.42           184.60      1821.0           0.16500   \n",
            "568  ...          30.37            59.16       268.6           0.08996   \n",
            "\n",
            "     compactness_worst  concavity_worst  concave points_worst  symmetry_worst  \\\n",
            "0              0.66560           0.7119                0.2654          0.4601   \n",
            "1              0.18660           0.2416                0.1860          0.2750   \n",
            "2              0.42450           0.4504                0.2430          0.3613   \n",
            "3              0.86630           0.6869                0.2575          0.6638   \n",
            "4              0.20500           0.4000                0.1625          0.2364   \n",
            "..                 ...              ...                   ...             ...   \n",
            "564            0.21130           0.4107                0.2216          0.2060   \n",
            "565            0.19220           0.3215                0.1628          0.2572   \n",
            "566            0.30940           0.3403                0.1418          0.2218   \n",
            "567            0.86810           0.9387                0.2650          0.4087   \n",
            "568            0.06444           0.0000                0.0000          0.2871   \n",
            "\n",
            "     fractal_dimension_worst  Unnamed: 32  \n",
            "0                    0.11890          NaN  \n",
            "1                    0.08902          NaN  \n",
            "2                    0.08758          NaN  \n",
            "3                    0.17300          NaN  \n",
            "4                    0.07678          NaN  \n",
            "..                       ...          ...  \n",
            "564                  0.07115          NaN  \n",
            "565                  0.06637          NaN  \n",
            "566                  0.07820          NaN  \n",
            "567                  0.12400          NaN  \n",
            "568                  0.07039          NaN  \n",
            "\n",
            "[569 rows x 33 columns]\n"
          ]
        }
      ]
    },
    {
      "cell_type": "code",
      "source": [
        "print(data.values)"
      ],
      "metadata": {
        "colab": {
          "base_uri": "https://localhost:8080/"
        },
        "id": "QbsnOUIM6oYG",
        "outputId": "ca09c4ee-8c95-4749-93f2-6ff571f6e505"
      },
      "execution_count": 22,
      "outputs": [
        {
          "output_type": "stream",
          "name": "stdout",
          "text": [
            "[[842302 'M' 17.99 ... 0.4601 0.1189 nan]\n",
            " [842517 'M' 20.57 ... 0.275 0.08902 nan]\n",
            " [84300903 'M' 19.69 ... 0.3613 0.08758 nan]\n",
            " ...\n",
            " [926954 'M' 16.6 ... 0.2218 0.0782 nan]\n",
            " [927241 'M' 20.6 ... 0.4087 0.124 nan]\n",
            " [92751 'B' 7.76 ... 0.2871 0.07039 nan]]\n"
          ]
        }
      ]
    },
    {
      "cell_type": "code",
      "source": [
        "import numpy as np\n",
        "\n",
        "X = data.values[:, 2:-1]  # remove id col and last col\n",
        "y = data.values[:, 1:2]\n",
        "y = np.where(y == 'M', 0, 1)\n",
        "print(X.shape, y.shape)"
      ],
      "metadata": {
        "colab": {
          "base_uri": "https://localhost:8080/"
        },
        "id": "wDwz926W6sVS",
        "outputId": "7974c14f-7be0-4e90-962a-c647870eacd5"
      },
      "execution_count": 23,
      "outputs": [
        {
          "output_type": "stream",
          "name": "stdout",
          "text": [
            "(569, 30) (569, 1)\n"
          ]
        }
      ]
    },
    {
      "cell_type": "code",
      "source": [
        "from sklearn.model_selection import train_test_split\n",
        "\n",
        "X_train, X_test, y_train, y_test = train_test_split(X, y, test_size=0.33, random_state=42)\n",
        "y_train, y_test = y_train[:, 0], y_test[:, 0]"
      ],
      "metadata": {
        "id": "EjOCvdB-_Vgo"
      },
      "execution_count": 24,
      "outputs": []
    },
    {
      "cell_type": "code",
      "source": [
        "from sklearn.metrics import precision_score, recall_score, f1_score\n",
        "from sklearn.decomposition import PCA\n",
        "from sklearn.preprocessing import StandardScaler, MinMaxScaler\n",
        "from sklearn.pipeline import Pipeline\n",
        "from sklearn.neural_network import MLPClassifier\n",
        "from sklearn.svm import SVC\n",
        "from sklearn.neighbors import KNeighborsClassifier\n",
        "from sklearn.linear_model import Perceptron, PassiveAggressiveClassifier, LogisticRegression\n",
        "from sklearn.naive_bayes import MultinomialNB\n",
        "from sklearn.tree import DecisionTreeClassifier\n",
        "\n",
        "estimators = [\n",
        "              SVC(), # Support vector machine\n",
        "              Perceptron(),\n",
        "              PassiveAggressiveClassifier(),\n",
        "              MLPClassifier(),\n",
        "              LogisticRegression(),\n",
        "              KNeighborsClassifier(),\n",
        "              MultinomialNB(),\n",
        "              DecisionTreeClassifier(),\n",
        "             ]\n",
        "\n",
        "for estimator in estimators:\n",
        "  scaler1 = StandardScaler()\n",
        "  scaler2 = MinMaxScaler(feature_range=(0, 1))\n",
        "  print(\"%s\" % (estimator))\n",
        "  model = Pipeline(steps=[('scaler1', scaler1),\n",
        "                          ('scaler2', scaler2),\n",
        "                          ('estimator', estimator),])\n",
        "  model.fit(X_train, y_train)\n",
        "  y_pred = model.predict(X_test)\n",
        "  print(\"precision:\", precision_score(y_test, y_pred))\n",
        "  print(\"   recall:\", recall_score(y_test, y_pred))\n",
        "  print(\"       f1:\", f1_score(y_test, y_pred))\n",
        "  print(\"\\n\")"
      ],
      "metadata": {
        "colab": {
          "base_uri": "https://localhost:8080/"
        },
        "id": "189KWj2Z-xBG",
        "outputId": "0595031f-f0a1-4e93-d504-a938cd8d0903"
      },
      "execution_count": 25,
      "outputs": [
        {
          "output_type": "stream",
          "name": "stdout",
          "text": [
            "SVC()\n",
            "precision: 0.9834710743801653\n",
            "   recall: 0.9834710743801653\n",
            "       f1: 0.9834710743801653\n",
            "\n",
            "\n",
            "Perceptron()\n",
            "precision: 0.975609756097561\n",
            "   recall: 0.9917355371900827\n",
            "       f1: 0.9836065573770492\n",
            "\n",
            "\n",
            "PassiveAggressiveClassifier()\n",
            "precision: 0.9915254237288136\n",
            "   recall: 0.9669421487603306\n",
            "       f1: 0.9790794979079498\n",
            "\n",
            "\n",
            "MLPClassifier()\n",
            "precision: 0.9834710743801653\n",
            "   recall: 0.9834710743801653\n",
            "       f1: 0.9834710743801653\n",
            "\n",
            "\n",
            "LogisticRegression()\n",
            "precision: 0.952\n",
            "   recall: 0.9834710743801653\n",
            "       f1: 0.967479674796748\n",
            "\n",
            "\n",
            "KNeighborsClassifier()\n",
            "precision: 0.9752066115702479\n",
            "   recall: 0.9752066115702479\n",
            "       f1: 0.9752066115702479\n",
            "\n",
            "\n",
            "MultinomialNB()\n",
            "precision: 0.8053691275167785\n",
            "   recall: 0.9917355371900827\n",
            "       f1: 0.8888888888888888\n",
            "\n",
            "\n",
            "DecisionTreeClassifier()\n",
            "precision: 0.9487179487179487\n",
            "   recall: 0.9173553719008265\n",
            "       f1: 0.9327731092436975\n",
            "\n",
            "\n"
          ]
        },
        {
          "output_type": "stream",
          "name": "stderr",
          "text": [
            "/usr/local/lib/python3.10/dist-packages/sklearn/neural_network/_multilayer_perceptron.py:686: ConvergenceWarning: Stochastic Optimizer: Maximum iterations (200) reached and the optimization hasn't converged yet.\n",
            "  warnings.warn(\n"
          ]
        }
      ]
    }
  ]
}